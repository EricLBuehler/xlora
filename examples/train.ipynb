{
 "cells": [
  {
   "cell_type": "markdown",
   "id": "3288987d",
   "metadata": {},
   "source": [
    "# MoLE training\n",
    "\n",
    "Multifile dataset augmentation and loading"
   ]
  },
  {
   "cell_type": "code",
   "execution_count": 1,
   "id": "8274a027-6bee-4a0b-995e-30fbe883ae4d",
   "metadata": {
    "tags": []
   },
   "outputs": [],
   "source": [
    "import os\n",
    "import random\n",
    "\n",
    "from tqdm.notebook import tqdm"
   ]
  },
  {
   "cell_type": "code",
   "execution_count": 2,
   "id": "e2c18b20-b1a9-4f3e-ae84-2a551e2ed69c",
   "metadata": {
    "tags": []
   },
   "outputs": [],
   "source": [
    "device='cuda'\n",
    "def generate_response (text_input=\"Biology offers amazing\",\n",
    "                      num_return_sequences=1,\n",
    "                      temperature=1., #the higher the temperature, the more creative the model becomes\n",
    "                      max_new_tokens=127,\n",
    "                      num_beams=1,\n",
    "                      top_k = 50,\n",
    "                      top_p =0.9,repetition_penalty=1.,eos_token_id=2,verbatim=False,\n",
    "                      exponential_decay_length_penalty_fac=None,\n",
    "                      ):\n",
    "\n",
    "    inputs = tokenizer.encode(text_input,  \n",
    "                              add_special_tokens  =False,  \n",
    "                              return_tensors ='pt')\n",
    "    if verbatim:\n",
    "        print (\"Length of input, tokenized: \", inputs.shape, inputs)\n",
    "    with torch.no_grad():\n",
    "          print(inputs.shape)\n",
    "          outputs = model.generate(input_ids=inputs.to(device), \n",
    "                                   max_new_tokens=max_new_tokens,\n",
    "                                   temperature=temperature, #value used to modulate the next token probabilities.\n",
    "                                   num_beams=num_beams,\n",
    "                                   top_k = top_k,\n",
    "                                   top_p =top_p,\n",
    "                                   num_return_sequences = num_return_sequences, eos_token_id=eos_token_id,\n",
    "                                   do_sample =True,#skip_prompt=True,\n",
    "                                   # exponential_decay_length_penalty = [inputs.shape[1], \n",
    "                                   #                                     exponential_decay_length_penalty_fac],\n",
    "                                   # length_penalty =   exponential_decay_length_penalty_fac,\n",
    "                                    \n",
    "                    repetition_penalty=repetition_penalty,\n",
    "                                   #repetition_penalty_range = 2048,\n",
    "                                    #    repetition_penalty_slope = 0,\n",
    "                                  )\n",
    "    return tokenizer.batch_decode(outputs[:,inputs.shape[1]:].detach().cpu().numpy(), skip_special_tokens=True)"
   ]
  },
  {
   "cell_type": "code",
   "execution_count": null,
   "id": "0ea280c0-226f-46d9-875a-181dee3e99ea",
   "metadata": {
    "scrolled": true,
    "tags": []
   },
   "outputs": [],
   "source": [
    "on_Lambda = True\n",
    "\n",
    "if on_Lambda:\n",
    "    !python3 -m pip install --upgrade pip\n",
    "    \n",
    "    !pip install -U trl git+https://github.com/huggingface/transformers.git git+https://github.com/huggingface/accelerate.git git+https://github.com/huggingface/peft.git\n",
    "    !pip install -U datasets einops wandb unidecode protobuf==3.20.0 bitsandbytes \n",
    "    !pip install -U trl\n",
    "    !pip install -U scipy\n",
    "    !pip install -U matplotlib\n",
    "    \n",
    "else:\n",
    "    #os.environ[\"CUDA_VISIBLE_DEVICES\"] = \"0\"\n",
    "    os.environ['HUGGINGFACE_HUB_CACHE '] = \"/mnt/d/.cache_Huggingface/\"\n",
    "    os.environ['HF_HOME'] = \"/mnt/d/.cache_Huggingface/\"\n"
   ]
  },
  {
   "cell_type": "code",
   "execution_count": 3,
   "id": "d128e116-685c-43c6-975e-5aba54c7a01d",
   "metadata": {
    "scrolled": true,
    "tags": []
   },
   "outputs": [],
   "source": [
    "import torch\n",
    "from transformers import AutoModelForCausalLM, AutoTokenizer\n",
    "import transformers\n",
    "from datasets import load_dataset\n",
    "from datasets import IterableDataset\n",
    "\n",
    "from transformers import Trainer\n",
    "from transformers import TrainingArguments\n",
    "from transformers import DataCollatorWithPadding\n",
    "from transformers import TrainerCallback\n",
    "from transformers import AutoConfig\n",
    "from transformers import BitsAndBytesConfig\n",
    "\n",
    "from peft import LoraConfig, get_peft_model\n",
    "from torch.utils.data import Dataset\n",
    "from transformers import get_linear_schedule_with_warmup\n",
    "\n",
    "import math\n",
    "import numpy as np\n",
    "import unidecode\n",
    "import pandas as pd\n",
    "from matplotlib import pyplot as plt"
   ]
  },
  {
   "cell_type": "code",
   "execution_count": 4,
   "id": "b952f32a-8d45-478f-b2b5-3dd43a80dd6d",
   "metadata": {},
   "outputs": [],
   "source": [
    "import mole"
   ]
  },
  {
   "cell_type": "code",
   "execution_count": 5,
   "id": "e223522c-23bd-4d6e-9fdb-7b760b478f1e",
   "metadata": {
    "tags": []
   },
   "outputs": [
    {
     "data": {
      "text/plain": [
       "('12.1', '2.1.2', 8902, True, True)"
      ]
     },
     "execution_count": 5,
     "metadata": {},
     "output_type": "execute_result"
    }
   ],
   "source": [
    "torch.version.cuda, torch.__version__, torch.backends.cudnn.version(), torch.backends.cudnn.enabled, torch.cuda.is_available()"
   ]
  },
  {
   "cell_type": "code",
   "execution_count": 6,
   "id": "a1065c76-f2fd-4dee-ba77-a4703284fa02",
   "metadata": {
    "tags": []
   },
   "outputs": [
    {
     "data": {
      "text/plain": [
       "('NVIDIA RTX A6000', 1)"
      ]
     },
     "execution_count": 6,
     "metadata": {},
     "output_type": "execute_result"
    }
   ],
   "source": [
    "torch.cuda.get_device_name(), torch.cuda.device_count()"
   ]
  },
  {
   "cell_type": "code",
   "execution_count": 7,
   "id": "3a8a59e4-5a44-4b7f-82ef-0d242238bcfb",
   "metadata": {
    "tags": []
   },
   "outputs": [
    {
     "name": "stdout",
     "output_type": "stream",
     "text": [
      "NVIDIA RTX A6000\n"
     ]
    }
   ],
   "source": [
    "for i in range(torch.cuda.device_count()):\n",
    "   print(torch.cuda.get_device_properties(i).name)"
   ]
  },
  {
   "cell_type": "code",
   "execution_count": 8,
   "id": "a1493b78-cf71-4908-8f02-bf4973ade4be",
   "metadata": {
    "tags": []
   },
   "outputs": [],
   "source": [
    "device = torch.device(\"cuda\")"
   ]
  },
  {
   "cell_type": "code",
   "execution_count": 9,
   "id": "df2acf1c-3f42-49a1-a238-2ba095279fd0",
   "metadata": {
    "tags": []
   },
   "outputs": [],
   "source": [
    "token = 'hf_xxxxxxxxxxxxxxxxxxxxxxxxx'\n",
    "from huggingface_hub import login\n",
    "#login(token=token)"
   ]
  },
  {
   "cell_type": "markdown",
   "id": "de85a04d-6503-49cc-ac21-8bb42386324e",
   "metadata": {},
   "source": [
    "### Parameters"
   ]
  },
  {
   "cell_type": "code",
   "execution_count": 10,
   "id": "82229f69-0acc-4dae-b4f9-4fa570c13153",
   "metadata": {
    "tags": []
   },
   "outputs": [],
   "source": [
    "epochs = 5\n",
    "learning_rate = 1e-4\n",
    "#warmup_steps = 1e2\n",
    "epsilon = 1e-8\n",
    "batch_size=1 \n",
    "train_test_split = 1 #80% of the FILES\n",
    "gradient_accumulation_steps=1\n",
    "\n",
    "output_dir = 'Mistral_v200Zephyr'\n",
    "FT_model_name = 'Mistral_v200Zephyr' #BioLlama_7b_4bit_190_withend\n",
    "loss_file='Mistral_v200Zephyr.csv'"
   ]
  },
  {
   "cell_type": "code",
   "execution_count": null,
   "id": "9da50a16-185d-4ff9-9580-6eb5486ca0e1",
   "metadata": {},
   "outputs": [],
   "source": [
    " "
   ]
  },
  {
   "cell_type": "code",
   "execution_count": 11,
   "id": "1a8691a5-197d-48e2-b60c-f2554db3cb2f",
   "metadata": {
    "tags": []
   },
   "outputs": [],
   "source": [
    "def params(model):\n",
    "    model_parameters = filter(lambda p: p.requires_grad, model.parameters())\n",
    "    params = sum([np.prod(p.size()) for p in model_parameters])\n",
    "\n",
    "    print(\"Parameters: \", params) "
   ]
  },
  {
   "cell_type": "code",
   "execution_count": 12,
   "id": "8d4eb2b3-b185-4916-91c3-59e73456a718",
   "metadata": {
    "tags": []
   },
   "outputs": [],
   "source": [
    "#del model"
   ]
  },
  {
   "cell_type": "code",
   "execution_count": 13,
   "id": "a70ec3cd-23e6-481e-8385-ec51fabc2f93",
   "metadata": {
    "tags": []
   },
   "outputs": [],
   "source": [
    "from accelerate import infer_auto_device_map"
   ]
  },
  {
   "cell_type": "code",
   "execution_count": 14,
   "id": "37e0537b-a55f-4bf9-b0e1-0a1ae951fb68",
   "metadata": {
    "scrolled": true,
    "tags": []
   },
   "outputs": [
    {
     "data": {
      "application/vnd.jupyter.widget-view+json": {
       "model_id": "66fdf53d76a34cdcbb3a806f7ef9f216",
       "version_major": 2,
       "version_minor": 0
      },
      "text/plain": [
       "Loading checkpoint shards:   0%|          | 0/8 [00:00<?, ?it/s]"
      ]
     },
     "metadata": {},
     "output_type": "display_data"
    }
   ],
   "source": [
    "model_name= 'HuggingFaceH4/zephyr-7b-beta'\n",
    "\n",
    "bnb_config4bit = BitsAndBytesConfig(\n",
    "    load_in_4bit=True,\n",
    "    bnb_4bit_quant_type=\"nf4\",\n",
    "    #bnb_4bit_compute_dtype=torch.bfloat16,\n",
    "    bnb_4bit_compute_dtype=torch.bfloat16,\n",
    "    use_nested_quant = False,\n",
    ")\n",
    "\n",
    "bnb_config8bit = BitsAndBytesConfig(\n",
    "    load_in_8bit=True,\n",
    "    #bnb_8bit_compute_dtype=torch.bfloat16,\n",
    "    bnb_8bit_compute_dtype=torch.bfloat16,\n",
    ")\n",
    "\n",
    "model = AutoModelForCausalLM.from_pretrained(\n",
    "    model_name,\n",
    "    #quantization_config= bnb_config8bit, \n",
    "    #quantization_config= bnb_config4bit, #bnb_config,\n",
    "    trust_remote_code=True,\n",
    "    #load_in_8bit=True, \n",
    "    device_map=\"auto\",\n",
    "    torch_dtype=  torch.bfloat16,\n",
    "   # use_flash_attention_2=True,\n",
    "    #device_map=\"cuda:0\",\n",
    ")#.to (device)\n",
    "model.config.use_cache = False\n"
   ]
  },
  {
   "cell_type": "code",
   "execution_count": null,
   "id": "1f9bf521-a1d9-4bb8-892c-80b5cdca7900",
   "metadata": {},
   "outputs": [],
   "source": []
  },
  {
   "cell_type": "code",
   "execution_count": 15,
   "id": "47823701-01ba-478d-9f1e-3ae0a8471c90",
   "metadata": {
    "tags": []
   },
   "outputs": [],
   "source": [
    "model_name= 'HuggingFaceH4/zephyr-7b-beta'\n",
    "tokenizer = AutoTokenizer.from_pretrained(model_name, trust_remote_code=True,\n",
    "                                         #device_map=\"cuda:0\",\n",
    "                                          device_map=\"auto\",\n",
    "                                         )\n",
    "tokenizer.pad_token = tokenizer.eos_token\n",
    "tokenizer.padding_side = \"right\" # Fix weird overflow issue with fp16 training\n",
    "tokenizer.add_bos_token, tokenizer.add_eos_token\n",
    "#tokenizer.padding_side = \"left\" # Fix weird overflow issue with fp16 training\n",
    "eos_token= tokenizer.eos_token_id"
   ]
  },
  {
   "cell_type": "code",
   "execution_count": 16,
   "id": "1275be8c-5deb-4432-aec1-d1a7a5094dbf",
   "metadata": {},
   "outputs": [
    {
     "data": {
      "text/plain": [
       "'</s>'"
      ]
     },
     "execution_count": 16,
     "metadata": {},
     "output_type": "execute_result"
    }
   ],
   "source": [
    "tokenizer.pad_token"
   ]
  },
  {
   "cell_type": "code",
   "execution_count": 17,
   "id": "d851a462-3a81-42db-8231-f2acadf951a8",
   "metadata": {},
   "outputs": [
    {
     "data": {
      "text/plain": [
       "'<|system|>\\nYou are a friendly chatbot who always responds in the style of a pirate</s>\\n<|user|>\\nHow many helicopters can a human eat in one sitting?</s>\\n<|assistant|>\\nSample response.</s>\\n<|assistant|>\\n'"
      ]
     },
     "execution_count": 17,
     "metadata": {},
     "output_type": "execute_result"
    }
   ],
   "source": [
    "messages = [\n",
    "    {\n",
    "        \"role\": \"system\",\n",
    "        \"content\": \"You are a friendly chatbot who always responds in the style of a pirate\",\n",
    "    },\n",
    "    {\"role\": \"user\", \"content\": \"How many helicopters can a human eat in one sitting?\"},\n",
    "    {\"role\": \"assistant\", \"content\": \"Sample response.\"},\n",
    "]\n",
    "prompt = tokenizer.apply_chat_template(messages, tokenize=False, add_generation_prompt=True)\n",
    "prompt"
   ]
  },
  {
   "cell_type": "code",
   "execution_count": 18,
   "id": "6883e74d-c13c-4bb2-847f-b943c7aea790",
   "metadata": {},
   "outputs": [
    {
     "data": {
      "text/plain": [
       "'/root/mole'"
      ]
     },
     "execution_count": 18,
     "metadata": {},
     "output_type": "execute_result"
    }
   ],
   "source": [
    "pwd"
   ]
  },
  {
   "cell_type": "markdown",
   "id": "8d5785ac-f3f3-44df-8a17-3d1979b8cd99",
   "metadata": {},
   "source": [
    "### Set up LoRA model (adaptors)"
   ]
  },
  {
   "cell_type": "code",
   "execution_count": 20,
   "id": "e15f67d3-dd2b-4352-be56-e9ddba845deb",
   "metadata": {
    "scrolled": true
   },
   "outputs": [
    {
     "name": "stderr",
     "output_type": "stream",
     "text": [
      "100%|██████████| 2376/2376 [00:00<00:00, 1033032.68it/s]"
     ]
    },
    {
     "name": "stdout",
     "output_type": "stream",
     "text": [
      "Swapped 160 layers.\n"
     ]
    },
    {
     "name": "stderr",
     "output_type": "stream",
     "text": [
      "\n"
     ]
    }
   ],
   "source": [
    "\n",
    "from transformers import AutoModelForCausalLM, AutoConfig\n",
    "import mole\n",
    " \n",
    "from importlib import reload\n",
    "import torch\n",
    "\n",
    "mole=reload(mole)\n",
    "\n",
    "config = AutoConfig.from_pretrained(model_name)\n",
    "model = mole.add_mole_to_model(model = model,\n",
    "                              \n",
    "                       mole_config = mole.MoLEConfig(config.hidden_size, mole_depth=2,\n",
    "                                pad_token_id=tokenizer.pad_token_id, device=torch.device(\"cuda\")),\n",
    "                     verbose=True,\n",
    "                       adapters = {\"adapter_1\": \"./mole-checkpoints/checkpoint-a\", \n",
    "                                   \"adapter_2\": \"./mole-checkpoints/checkpoint-a\",\n",
    "                                  })\n"
   ]
  },
  {
   "cell_type": "code",
   "execution_count": 21,
   "id": "2ae9964c-f587-487c-98d8-336a7082dc5c",
   "metadata": {},
   "outputs": [
    {
     "data": {
      "text/plain": [
       "32000"
      ]
     },
     "execution_count": 21,
     "metadata": {},
     "output_type": "execute_result"
    }
   ],
   "source": [
    "config.vocab_size"
   ]
  },
  {
   "cell_type": "code",
   "execution_count": 22,
   "id": "a105bbea-d6e5-45cb-8527-3c498100db58",
   "metadata": {},
   "outputs": [
    {
     "name": "stdout",
     "output_type": "stream",
     "text": [
      "Parameters:  0\n"
     ]
    }
   ],
   "source": [
    "params (model)"
   ]
  },
  {
   "cell_type": "code",
   "execution_count": 23,
   "id": "2ed32a59-561e-4fec-aeb3-18683c630b4b",
   "metadata": {},
   "outputs": [
    {
     "name": "stdout",
     "output_type": "stream",
     "text": [
      "trainable params: 131,136 || all params: 14,575,870,016 || trainable%: 0.0009\n"
     ]
    }
   ],
   "source": [
    "mole.print_trainable_parameters(model)"
   ]
  },
  {
   "cell_type": "code",
   "execution_count": 24,
   "id": "5cd9e05f-0d67-404f-bee9-1cc7500ef19d",
   "metadata": {
    "scrolled": true
   },
   "outputs": [
    {
     "data": {
      "text/plain": [
       "PeftModelForCausalLM(\n",
       "  (base_model): LoraModel(\n",
       "    (model): MistralForCausalLM(\n",
       "      (model): MistralModel(\n",
       "        (embed_tokens): Embedding(32000, 4096, padding_idx=2)\n",
       "        (layers): ModuleList(\n",
       "          (0-31): 32 x MistralDecoderLayer(\n",
       "            (self_attn): MistralSdpaAttention(\n",
       "              (q_proj): lora.Linear(\n",
       "                (base_layer): Linear(in_features=4096, out_features=4096, bias=False)\n",
       "                (lora_dropout): ModuleDict(\n",
       "                  (adapter_1): Dropout(p=0.05, inplace=False)\n",
       "                  (adapter_2): Dropout(p=0.05, inplace=False)\n",
       "                )\n",
       "                (lora_A): ModuleDict(\n",
       "                  (adapter_1): Linear(in_features=4096, out_features=16, bias=False)\n",
       "                  (adapter_2): Linear(in_features=4096, out_features=16, bias=False)\n",
       "                )\n",
       "                (lora_B): ModuleDict(\n",
       "                  (adapter_1): Linear(in_features=16, out_features=4096, bias=False)\n",
       "                  (adapter_2): Linear(in_features=16, out_features=4096, bias=False)\n",
       "                )\n",
       "                (lora_embedding_A): ParameterDict()\n",
       "                (lora_embedding_B): ParameterDict()\n",
       "              )\n",
       "              (k_proj): lora.Linear(\n",
       "                (base_layer): Linear(in_features=4096, out_features=1024, bias=False)\n",
       "                (lora_dropout): ModuleDict(\n",
       "                  (adapter_1): Dropout(p=0.05, inplace=False)\n",
       "                  (adapter_2): Dropout(p=0.05, inplace=False)\n",
       "                )\n",
       "                (lora_A): ModuleDict(\n",
       "                  (adapter_1): Linear(in_features=4096, out_features=16, bias=False)\n",
       "                  (adapter_2): Linear(in_features=4096, out_features=16, bias=False)\n",
       "                )\n",
       "                (lora_B): ModuleDict(\n",
       "                  (adapter_1): Linear(in_features=16, out_features=1024, bias=False)\n",
       "                  (adapter_2): Linear(in_features=16, out_features=1024, bias=False)\n",
       "                )\n",
       "                (lora_embedding_A): ParameterDict()\n",
       "                (lora_embedding_B): ParameterDict()\n",
       "              )\n",
       "              (v_proj): lora.Linear(\n",
       "                (base_layer): Linear(in_features=4096, out_features=1024, bias=False)\n",
       "                (lora_dropout): ModuleDict(\n",
       "                  (adapter_1): Dropout(p=0.05, inplace=False)\n",
       "                  (adapter_2): Dropout(p=0.05, inplace=False)\n",
       "                )\n",
       "                (lora_A): ModuleDict(\n",
       "                  (adapter_1): Linear(in_features=4096, out_features=16, bias=False)\n",
       "                  (adapter_2): Linear(in_features=4096, out_features=16, bias=False)\n",
       "                )\n",
       "                (lora_B): ModuleDict(\n",
       "                  (adapter_1): Linear(in_features=16, out_features=1024, bias=False)\n",
       "                  (adapter_2): Linear(in_features=16, out_features=1024, bias=False)\n",
       "                )\n",
       "                (lora_embedding_A): ParameterDict()\n",
       "                (lora_embedding_B): ParameterDict()\n",
       "              )\n",
       "              (o_proj): lora.Linear(\n",
       "                (base_layer): Linear(in_features=4096, out_features=4096, bias=False)\n",
       "                (lora_dropout): ModuleDict(\n",
       "                  (adapter_1): Dropout(p=0.05, inplace=False)\n",
       "                  (adapter_2): Dropout(p=0.05, inplace=False)\n",
       "                )\n",
       "                (lora_A): ModuleDict(\n",
       "                  (adapter_1): Linear(in_features=4096, out_features=16, bias=False)\n",
       "                  (adapter_2): Linear(in_features=4096, out_features=16, bias=False)\n",
       "                )\n",
       "                (lora_B): ModuleDict(\n",
       "                  (adapter_1): Linear(in_features=16, out_features=4096, bias=False)\n",
       "                  (adapter_2): Linear(in_features=16, out_features=4096, bias=False)\n",
       "                )\n",
       "                (lora_embedding_A): ParameterDict()\n",
       "                (lora_embedding_B): ParameterDict()\n",
       "              )\n",
       "              (rotary_emb): MistralRotaryEmbedding()\n",
       "            )\n",
       "            (mlp): MistralMLP(\n",
       "              (gate_proj): lora.Linear(\n",
       "                (base_layer): Linear(in_features=4096, out_features=14336, bias=False)\n",
       "                (lora_dropout): ModuleDict(\n",
       "                  (adapter_1): Dropout(p=0.05, inplace=False)\n",
       "                  (adapter_2): Dropout(p=0.05, inplace=False)\n",
       "                )\n",
       "                (lora_A): ModuleDict(\n",
       "                  (adapter_1): Linear(in_features=4096, out_features=16, bias=False)\n",
       "                  (adapter_2): Linear(in_features=4096, out_features=16, bias=False)\n",
       "                )\n",
       "                (lora_B): ModuleDict(\n",
       "                  (adapter_1): Linear(in_features=16, out_features=14336, bias=False)\n",
       "                  (adapter_2): Linear(in_features=16, out_features=14336, bias=False)\n",
       "                )\n",
       "                (lora_embedding_A): ParameterDict()\n",
       "                (lora_embedding_B): ParameterDict()\n",
       "              )\n",
       "              (up_proj): Linear(in_features=4096, out_features=14336, bias=False)\n",
       "              (down_proj): Linear(in_features=14336, out_features=4096, bias=False)\n",
       "              (act_fn): SiLU()\n",
       "            )\n",
       "            (input_layernorm): MistralRMSNorm()\n",
       "            (post_attention_layernorm): MistralRMSNorm()\n",
       "          )\n",
       "        )\n",
       "        (norm): MistralRMSNorm()\n",
       "      )\n",
       "      (lm_head): Linear(in_features=4096, out_features=32000, bias=False)\n",
       "    )\n",
       "  )\n",
       ")"
      ]
     },
     "execution_count": 24,
     "metadata": {},
     "output_type": "execute_result"
    }
   ],
   "source": [
    "model"
   ]
  },
  {
   "cell_type": "raw",
   "id": "1ed55259-9314-4f07-9769-d8aa609726a2",
   "metadata": {
    "tags": []
   },
   "source": [
    "make_peft=True\n",
    "make_peft=False\n",
    "if make_peft:\n",
    "    peft_config = LoraConfig(\n",
    "            r=16,\n",
    "            lora_alpha=16,\n",
    "            lora_dropout=0.05,\n",
    "            bias=\"none\",\n",
    "            task_type=\"CAUSAL_LM\",\n",
    "            target_modules=[\"q_proj\", \"k_proj\", \"v_proj\", \"o_proj\", \"gate_proj\"]\n",
    "        )\n",
    "    \n",
    "    model=get_peft_model(model, peft_config)\n",
    "    params(model)"
   ]
  },
  {
   "cell_type": "code",
   "execution_count": 25,
   "id": "5a58b033-da3f-454e-9057-21fdf4c718f3",
   "metadata": {},
   "outputs": [
    {
     "name": "stdout",
     "output_type": "stream",
     "text": [
      "trainable params: 131,136 || all params: 14,575,870,016 || trainable%: 0.0009\n"
     ]
    },
    {
     "data": {
      "text/plain": [
       "(PeftModelForCausalLM(\n",
       "   (base_model): LoraModel(\n",
       "     (model): MistralForCausalLM(\n",
       "       (model): MistralModel(\n",
       "         (embed_tokens): Embedding(32000, 4096, padding_idx=2)\n",
       "         (layers): ModuleList(\n",
       "           (0-31): 32 x MistralDecoderLayer(\n",
       "             (self_attn): MistralSdpaAttention(\n",
       "               (q_proj): lora.Linear(\n",
       "                 (base_layer): Linear(in_features=4096, out_features=4096, bias=False)\n",
       "                 (lora_dropout): ModuleDict(\n",
       "                   (adapter_1): Dropout(p=0.05, inplace=False)\n",
       "                   (adapter_2): Dropout(p=0.05, inplace=False)\n",
       "                 )\n",
       "                 (lora_A): ModuleDict(\n",
       "                   (adapter_1): Linear(in_features=4096, out_features=16, bias=False)\n",
       "                   (adapter_2): Linear(in_features=4096, out_features=16, bias=False)\n",
       "                 )\n",
       "                 (lora_B): ModuleDict(\n",
       "                   (adapter_1): Linear(in_features=16, out_features=4096, bias=False)\n",
       "                   (adapter_2): Linear(in_features=16, out_features=4096, bias=False)\n",
       "                 )\n",
       "                 (lora_embedding_A): ParameterDict()\n",
       "                 (lora_embedding_B): ParameterDict()\n",
       "               )\n",
       "               (k_proj): lora.Linear(\n",
       "                 (base_layer): Linear(in_features=4096, out_features=1024, bias=False)\n",
       "                 (lora_dropout): ModuleDict(\n",
       "                   (adapter_1): Dropout(p=0.05, inplace=False)\n",
       "                   (adapter_2): Dropout(p=0.05, inplace=False)\n",
       "                 )\n",
       "                 (lora_A): ModuleDict(\n",
       "                   (adapter_1): Linear(in_features=4096, out_features=16, bias=False)\n",
       "                   (adapter_2): Linear(in_features=4096, out_features=16, bias=False)\n",
       "                 )\n",
       "                 (lora_B): ModuleDict(\n",
       "                   (adapter_1): Linear(in_features=16, out_features=1024, bias=False)\n",
       "                   (adapter_2): Linear(in_features=16, out_features=1024, bias=False)\n",
       "                 )\n",
       "                 (lora_embedding_A): ParameterDict()\n",
       "                 (lora_embedding_B): ParameterDict()\n",
       "               )\n",
       "               (v_proj): lora.Linear(\n",
       "                 (base_layer): Linear(in_features=4096, out_features=1024, bias=False)\n",
       "                 (lora_dropout): ModuleDict(\n",
       "                   (adapter_1): Dropout(p=0.05, inplace=False)\n",
       "                   (adapter_2): Dropout(p=0.05, inplace=False)\n",
       "                 )\n",
       "                 (lora_A): ModuleDict(\n",
       "                   (adapter_1): Linear(in_features=4096, out_features=16, bias=False)\n",
       "                   (adapter_2): Linear(in_features=4096, out_features=16, bias=False)\n",
       "                 )\n",
       "                 (lora_B): ModuleDict(\n",
       "                   (adapter_1): Linear(in_features=16, out_features=1024, bias=False)\n",
       "                   (adapter_2): Linear(in_features=16, out_features=1024, bias=False)\n",
       "                 )\n",
       "                 (lora_embedding_A): ParameterDict()\n",
       "                 (lora_embedding_B): ParameterDict()\n",
       "               )\n",
       "               (o_proj): lora.Linear(\n",
       "                 (base_layer): Linear(in_features=4096, out_features=4096, bias=False)\n",
       "                 (lora_dropout): ModuleDict(\n",
       "                   (adapter_1): Dropout(p=0.05, inplace=False)\n",
       "                   (adapter_2): Dropout(p=0.05, inplace=False)\n",
       "                 )\n",
       "                 (lora_A): ModuleDict(\n",
       "                   (adapter_1): Linear(in_features=4096, out_features=16, bias=False)\n",
       "                   (adapter_2): Linear(in_features=4096, out_features=16, bias=False)\n",
       "                 )\n",
       "                 (lora_B): ModuleDict(\n",
       "                   (adapter_1): Linear(in_features=16, out_features=4096, bias=False)\n",
       "                   (adapter_2): Linear(in_features=16, out_features=4096, bias=False)\n",
       "                 )\n",
       "                 (lora_embedding_A): ParameterDict()\n",
       "                 (lora_embedding_B): ParameterDict()\n",
       "               )\n",
       "               (rotary_emb): MistralRotaryEmbedding()\n",
       "             )\n",
       "             (mlp): MistralMLP(\n",
       "               (gate_proj): lora.Linear(\n",
       "                 (base_layer): Linear(in_features=4096, out_features=14336, bias=False)\n",
       "                 (lora_dropout): ModuleDict(\n",
       "                   (adapter_1): Dropout(p=0.05, inplace=False)\n",
       "                   (adapter_2): Dropout(p=0.05, inplace=False)\n",
       "                 )\n",
       "                 (lora_A): ModuleDict(\n",
       "                   (adapter_1): Linear(in_features=4096, out_features=16, bias=False)\n",
       "                   (adapter_2): Linear(in_features=4096, out_features=16, bias=False)\n",
       "                 )\n",
       "                 (lora_B): ModuleDict(\n",
       "                   (adapter_1): Linear(in_features=16, out_features=14336, bias=False)\n",
       "                   (adapter_2): Linear(in_features=16, out_features=14336, bias=False)\n",
       "                 )\n",
       "                 (lora_embedding_A): ParameterDict()\n",
       "                 (lora_embedding_B): ParameterDict()\n",
       "               )\n",
       "               (up_proj): Linear(in_features=4096, out_features=14336, bias=False)\n",
       "               (down_proj): Linear(in_features=14336, out_features=4096, bias=False)\n",
       "               (act_fn): SiLU()\n",
       "             )\n",
       "             (input_layernorm): MistralRMSNorm()\n",
       "             (post_attention_layernorm): MistralRMSNorm()\n",
       "           )\n",
       "         )\n",
       "         (norm): MistralRMSNorm()\n",
       "       )\n",
       "       (lm_head): Linear(in_features=4096, out_features=32000, bias=False)\n",
       "     )\n",
       "   )\n",
       " ),\n",
       " None)"
      ]
     },
     "execution_count": 25,
     "metadata": {},
     "output_type": "execute_result"
    }
   ],
   "source": [
    "model, mole.print_trainable_parameters(model)"
   ]
  },
  {
   "cell_type": "code",
   "execution_count": 26,
   "id": "c48f2ffa-a2b4-4bd5-bcc8-d0e57e926fc5",
   "metadata": {},
   "outputs": [
    {
     "name": "stdout",
     "output_type": "stream",
     "text": [
      "['MoLEConfig', '__builtins__', '__cached__', '__doc__', '__file__', '__loader__', '__name__', '__package__', '__path__', '__spec__', 'add_mole_to_model', 'from_pretrained', 'get_nb_trainable_parameters', 'mole', 'mole_classifier', 'mole_config', 'mole_insertion', 'mole_state', 'print_trainable_parameters', 'save_pretrained', 'set_scalings_with_lifetime']\n"
     ]
    }
   ],
   "source": [
    "print (dir(mole))"
   ]
  },
  {
   "cell_type": "code",
   "execution_count": 27,
   "id": "6c2bbfb3-2551-4921-8a7b-57aacbe53750",
   "metadata": {
    "tags": []
   },
   "outputs": [],
   "source": [
    "tokenizer.add_bos_token=True #False"
   ]
  },
  {
   "cell_type": "code",
   "execution_count": 28,
   "id": "231d38b5-25a6-4076-8e85-f0887b987c58",
   "metadata": {
    "tags": []
   },
   "outputs": [],
   "source": [
    "import pandas as pd\n",
    "  \n",
    "fname='./BioMat_ExaminationsQ_UPDATED.csv'\n",
    "df_trial=pd.read_csv(fname)\n",
    "df_trial\n",
    "\n",
    "eos_token=tokenizer.eos_token_id\n",
    "\n",
    "def trial(df_trial, step_number=0, frac=1. ):\n",
    "\n",
    "    questions=[]\n",
    "    answers=[]\n",
    "    corr_answers=[]\n",
    "\n",
    "    if frac<1:\n",
    "        df_trial=df_trial.sample (frac=frac, random_state=42).reset_index()\n",
    "    \n",
    "    for q,CorrectA in tqdm(zip(df_trial['Question'],df_trial['Answer'])):    \n",
    "        print (\"###########################################################################\")\n",
    "        #q=f'Select only one option as the correct answer (A,  B, or C): \"{q.strip()}\"'\n",
    "        #q=f'{q.strip()}'\n",
    "        \n",
    "        #txt=f\"<s>### System:\\n{system_prompt}\\n\\n### User:\\n{q}\\n\\n### Assistant:\\n{prepend_response}\" \n",
    "        \n",
    "        #txt=system_prompt+f\"Select only one option as the correct answer (A,  B, or C): \" + q + \"[/INST]\"\n",
    "        #txt=f\"[INST] {q} [/INST]\"\n",
    "        #txt=f\"<s>{system_prompt} [INST] Select only one option as the correct answer (A,  B, or C): \" + q + \"[/INST]\"\n",
    "        #txt=f\"<s>[INST] Select only one option as the correct answer (A,  B, or C): \" + q + \"[/INST]\"\n",
    "        #txt=f\"<s>Select the correct answer</s><s>. [INST] \" + q + \"[/INST]\"\n",
    "        #txt=f\"<s>You are an expert in biological and bio-inspired materials. [INST] Select only one option as the correct answer (A,  B, or C): \" + q + \". Very brief answer. [/INST]\"\n",
    "        txt=f\"<s><|user|>\\nSelect only one option as the correct answer (A,  B, or C): \" + q.strip() + \"</s>\\n<|assistant|>\\n\"\n",
    "\n",
    "        #'<|system|>\\nYou are a friendly chatbot who always responds in the style of a pirate</s>\\n<|user|>\\nHow many helicopters \n",
    "        #can a human eat in one sitting?</s>\\n<|assistant|>\\n\n",
    "\n",
    "        \n",
    "        #txt=f\"<s>You are an expert in biological and bio-inspired materials. [INST] Read this question: \"+ q + \"Select only one option as the correct answer (A,  B, or C): \" + q + \"[/INST]\"\n",
    "        #txt=f\"<s> Select only one option as the correct answer (A,  B, or C): \" + q  \n",
    "        #print (f\"QUESTION: {txt}\")\n",
    "        #txt=f\"<s>{q}\"\n",
    "        #txt=f\"<s>### User:\\n{q}\\n\\n### Assistant:\\n{prepend_response}\" \n",
    "        #print (txt) \n",
    "        #result=generate_response (\"[INST] Select only one option as the correct answer (A,  B, or C): \" + csv_data_list[l] + \"[/INST]\",repetition_penalty = 1.1, \\\n",
    "        #temperature=.1,max_new_tokens=100,num_return_sequences=5) \n",
    "    \n",
    "        \n",
    "        output_text=generate_response (text_input=txt,eos_token_id=eos_token,\n",
    "                              num_return_sequences=1,  repetition_penalty=1.,\n",
    "                                       # top_p=0.95, top_k=500, \n",
    "                                       top_p=0.9, top_k=50,  \n",
    "                             #temperature=.1,max_new_tokens=100, verbatim=True, \n",
    "                             temperature=.1,max_new_tokens=256, verbatim=False, \n",
    "                                        \n",
    "                                       )\n",
    "      \n",
    "        \n",
    "        #print(\"\\nANSWER: \", output_text[0],'\\n')\n",
    "        print (f\"Question: {q}\\nAnswer: {output_text[0]}\\nCorrect answer={CorrectA}\")\n",
    "        questions.append (q)\n",
    "        answers.append (output_text[0])\n",
    "        corr_answers.append (CorrectA)\n",
    "\n",
    "    \n",
    "    df_res = pd.DataFrame({\"text\": questions, \"answers\": answers, \"corr_answers\": corr_answers} )\n",
    "    df_res.to_csv(f'./{output_dir}/out_{FT_model_name}_{step_number}.csv')\n",
    "\n",
    "    return df_res\n"
   ]
  },
  {
   "cell_type": "code",
   "execution_count": 29,
   "id": "27f6b128-abfb-41cd-9609-fc7333fa1afd",
   "metadata": {
    "tags": []
   },
   "outputs": [
    {
     "data": {
      "text/plain": [
       "2"
      ]
     },
     "execution_count": 29,
     "metadata": {},
     "output_type": "execute_result"
    }
   ],
   "source": [
    "eos_token"
   ]
  },
  {
   "cell_type": "markdown",
   "id": "8dde066f-b921-4ee4-968f-8f038ef1baba",
   "metadata": {},
   "source": [
    "### Data loader and related functions "
   ]
  },
  {
   "cell_type": "raw",
   "id": "e01ddd94-3a3b-48e2-b85d-76ec4745ad09",
   "metadata": {},
   "source": [
    "dataset = load_dataset('json', data_files=\"./CoT_data.json\", )\n",
    "\n",
    "\n",
    "for item in dataset[\"train\"]:\n",
    "    display (item['instruction'],item['output'], )\n",
    "\n",
    "    messages = [\n",
    "         \n",
    "        {\"role\": \"user\", \"content\": item['instruction']},\n",
    "        {\"role\": \"assistant\", \"content\": item['output']},\n",
    "        \n",
    "        ]\n",
    "    prompt = tokenizer.apply_chat_template(messages, tokenize=False, add_generation_prompt=False)\n",
    "    display (prompt)\n",
    "        \n",
    "\n",
    "    break"
   ]
  },
  {
   "cell_type": "code",
   "execution_count": 30,
   "id": "0662a824-9748-4d4c-8239-6fab400b1621",
   "metadata": {
    "scrolled": true,
    "tags": []
   },
   "outputs": [
    {
     "data": {
      "application/vnd.jupyter.widget-view+json": {
       "model_id": "1aff124d682f4365ab69d3aa8714600f",
       "version_major": 2,
       "version_minor": 0
      },
      "text/plain": [
       "  0%|          | 0/22283 [00:00<?, ?it/s]"
      ]
     },
     "metadata": {},
     "output_type": "display_data"
    },
    {
     "name": "stdout",
     "output_type": "stream",
     "text": [
      "Max tokenized: 511, max length (words): 386\n"
     ]
    },
    {
     "data": {
      "image/png": "[encoded data removed]",
      "text/plain": [
       "<Figure size 640x480 with 1 Axes>"
      ]
     },
     "metadata": {},
     "output_type": "display_data"
    }
   ],
   "source": [
    "### ALTERNATIVE DATALOADER\n",
    "\n",
    "    \n",
    "#start_token = '<s>'\n",
    "#end_token = '</s>'\n",
    "#sys_token = '<<SYS>>'\n",
    "#or_start_token = '[INST]'\n",
    "#or_end_token = '[/INST]' \n",
    "\n",
    "pad_all=False #then padding happens in data collector \n",
    "\n",
    "# Create torch dataset\n",
    "class Dataset(torch.utils.data.Dataset):\n",
    "    def __init__(self, text_list):\n",
    "        #self.titles = df['Article Title']\n",
    "        #self.abstracts = df['Abstract']\n",
    "        self.textlist=text_list\n",
    "\n",
    "    def __getitem__(self, idx):\n",
    "         \n",
    "        #line =  f\"{inst_start_token} {self.titles[idx]} {inst_end_token} {self.abstracts[i]} {end_token}\"\n",
    "        line =  self.textlist[idx]\n",
    "        #print (line[:16])\n",
    "        #print (f'{idx}-', end='')\n",
    "        \n",
    "        if text_only:\n",
    "            out = {\n",
    "                   \"text\": line\n",
    "                  }\n",
    "        \n",
    "        elif pad_all:\n",
    "            res = tokenizer(line, truncation=True, max_length=MAX_TOKENIZED_LENGTH, \n",
    "                                    padding=\"max_length\",\n",
    "                                    return_tensors=\"pt\",\n",
    "                                   \n",
    "                                   )\n",
    "\n",
    "            out = {\n",
    "                   \"input_ids\": res[\"input_ids\"].squeeze(), \"attention_mask\":res[\"attention_mask\"].squeeze(),\n",
    "                   \"labels\": res[\"input_ids\"].clone().detach().squeeze()#,\n",
    "                   #\"text\": line\n",
    "                  }\n",
    "        \n",
    "        else:\n",
    "            res = tokenizer(line, #truncation=True, max_length=MAX_TOKENIZED_LENGTH, \n",
    "                                   # padding=\"max_length\",\n",
    "                                    return_tensors=\"pt\",\n",
    "                                   \n",
    "                                   )\n",
    "    \n",
    "            out = {\n",
    "                   \"input_ids\": res[\"input_ids\"].squeeze(), \"attention_mask\":res[\"attention_mask\"].squeeze(),\n",
    "                   \"labels\": res[\"input_ids\"].clone().detach().squeeze()#,\n",
    "                   #\"labels\": res[\"input_ids\"].clone().detach().squeeze(),\n",
    "                   #\"text\": line\n",
    "                  }\n",
    "        \n",
    "        #print (item)\n",
    "        return out\n",
    "\n",
    "    def __len__(self):\n",
    "        return len(self.textlist)\n",
    "\n",
    "\n",
    "\n",
    "max_leng_critical=1800\n",
    "max_leng_critical=512\n",
    "\n",
    "max_len=-1\n",
    "max_len_txt=-1\n",
    "len_list=[]\n",
    "len_list_txt=[]\n",
    "text_list=[]\n",
    "\n",
    "use13b=True\n",
    "Orca_include=True\n",
    "Orca_singleout_include=True\n",
    "#numerical_include=False\n",
    "numerical_include=True\n",
    "\n",
    "use13b=False\n",
    "Orca_include=False\n",
    "Orca_singleout_include=False\n",
    "#numerical_include=False\n",
    "numerical_include=False\n",
    "\n",
    "CoT_include=False #True\n",
    "\n",
    "Q_A_include=True\n",
    "format_qa=True #whether to use chat template \n",
    "\n",
    "if Q_A_include:\n",
    "    \n",
    "    data=pd.read_csv('train_data_processed_Mistral_train_data_small_COMBINED.csv_0_FINAL.csv')\n",
    "    \n",
    "    for idx in tqdm ( range (len (data['question'])) ):\n",
    "        \n",
    "        #system_prompt='You are BioinspiredLLM, a helpful assistant.'\n",
    "        \n",
    "        if format_qa:\n",
    "\n",
    "            messages = [\n",
    "             \n",
    "            {\"role\": \"user\", \"content\": data['question'][idx]},\n",
    "            {\"role\": \"assistant\", \"content\": data['answer'][idx]},\n",
    "            \n",
    "            ]\n",
    "            line = tokenizer.apply_chat_template(messages, tokenize=False, add_generation_prompt=False)\n",
    "\n",
    "        else:\n",
    "            line=f\"{data['question'][idx]} {data['answer'][idx]}</s>\" \n",
    "\n",
    "\n",
    "\n",
    "        \n",
    "        tok=tokenizer(line,  return_tensors=\"pt\",  )\n",
    "    \n",
    "        if tok['input_ids'].shape[1]<max_leng_critical:\n",
    "            \n",
    "            if tok['input_ids'].shape[1]>=max_len:\n",
    "                max_len=tok['input_ids'].shape[1]\n",
    "        \n",
    "                \n",
    "                #print (len (line.split ()))\n",
    "            if len (line.split ())>max_len_txt:\n",
    "                max_len_txt=len (line.split ())\n",
    "        \n",
    "            len_list.append (tok['input_ids'].shape[1])\n",
    "            len_list_txt.append (len (line.split ()))\n",
    "        \n",
    "            text_list.append (line)\n",
    "\n",
    "\n",
    "\n",
    "if CoT_include:\n",
    "    max_leng_critical_CoT=1000\n",
    "    \n",
    "    data=pd.read_csv('ALLDATASETS/13b_train_data_smallv2_processed_llama_B_MERGED.csv')\n",
    "\n",
    "    dataset = load_dataset('json', data_files=\"./CoT_data.json\", )\n",
    "\n",
    "\n",
    "    for item in tqdm (dataset[\"train\"]):\n",
    "        \n",
    "        messages = [\n",
    "         \n",
    "        {\"role\": \"user\", \"content\": item['instruction']},\n",
    "        {\"role\": \"assistant\", \"content\": item['output']},\n",
    "        \n",
    "        ]\n",
    "        line = tokenizer.apply_chat_template(messages, tokenize=False, add_generation_prompt=False)\n",
    "    \n",
    "        tok=tokenizer(line,  return_tensors=\"pt\",  )\n",
    "    \n",
    "        if tok['input_ids'].shape[1]<max_leng_critical_CoT:\n",
    "            \n",
    "            if tok['input_ids'].shape[1]>=max_len:\n",
    "                max_len=tok['input_ids'].shape[1]\n",
    "        \n",
    "                \n",
    "                #print (len (line.split ()))\n",
    "            if len (line.split ())>max_len_txt:\n",
    "                max_len_txt=len (line.split ())\n",
    "        \n",
    "            len_list.append (tok['input_ids'].shape[1])\n",
    "            len_list_txt.append (len (line.split ()))\n",
    "        \n",
    "            text_list.append (line)\n",
    "\n",
    "\n",
    "if use13b:\n",
    "    \n",
    "    data=pd.read_csv('../ALLDATASETS/13b_train_data_smallv2_processed_llama_B_MERGED.csv')\n",
    "    \n",
    "    for idx in tqdm ( range (len (data['question'])) ):\n",
    "        '''\n",
    "        <s>[INST] <<SYS>>\n",
    "        You are a helpful, respectful and honest assistant. Always answer as helpfully as possible, while being safe.  Your answers should not include any harmful, unethical, racist, sexist, toxic, dangerous, or illegal content. Please ensure that your responses are socially unbiased and positive in nature.\n",
    "        \n",
    "        If a question does not make any sense, or is not factually coherent, explain why instead of answering something not correct. If you don't know the answer to a question, please don't share false information.\n",
    "        <</SYS>>\n",
    "        \n",
    "        There's a llama in my garden 😱 What should I do? [/INST]\n",
    "        '''\n",
    "        system_prompt='You are BioinspiredLLM, a helpful assistant.'\n",
    "        ########################################################\n",
    "        #line=f\"{CNT['text'][idx]}{end_token}\"\n",
    "        #line=f\"{or_start_token} {CNT['question'][idx]} {or_end_token} {CNT['answer'][idx]} {end_token}\" \n",
    "        #line=f\"<|user|>\\n{data['question'][idx]}</s>\\n<|assistant|>\\n{data['answer'][idx]}</s>\" \n",
    "        line=f\"{data['question'][idx]} {data['answer'][idx]}</s>\" \n",
    "        #prompt =  f\"<|im_start|>system\\n{system_prompt}<|im_end|>\\n<|im_start|>user\\n{user_message}<|im_end|>\\n<|im_start|>assistant\"\n",
    "    \n",
    "    \n",
    "    \n",
    "        #line = f\"[INST]\\n<<SYS>>\\n{system_prompt}\\n<</SYS>>\\n\\n{data['question'][idx]}[/INST]{data['answer'][idx]}</s>\"\n",
    "        #line = f\"[INST]\\n<<SYS>>\\n{system_prompt}\\n<</SYS>>\\n\\n{data['question'][idx]}[/INST]{data['answer'][idx]}</s>\"\n",
    "    \n",
    "        #line=f\"{data['question'][idx]} {data['answer'][idx]}\" \n",
    "        tok=tokenizer(line,  return_tensors=\"pt\",  )\n",
    "    \n",
    "        if tok['input_ids'].shape[1]<max_leng_critical:\n",
    "            \n",
    "            if tok['input_ids'].shape[1]>=max_len:\n",
    "                max_len=tok['input_ids'].shape[1]\n",
    "        \n",
    "                \n",
    "                #print (len (line.split ()))\n",
    "            if len (line.split ())>max_len_txt:\n",
    "                max_len_txt=len (line.split ())\n",
    "        \n",
    "            len_list.append (tok['input_ids'].shape[1])\n",
    "            len_list_txt.append (len (line.split ()))\n",
    "        \n",
    "            text_list.append (line)\n",
    "\n",
    "\n",
    "if Orca_singleout_include:\n",
    "    fname='ALLDATASETS/train_data_processed_OpenOrca_singleoutput_train_data_chunked_text.csv_0_Lambda_0_FINAL.csv'\n",
    "    data=pd.read_csv(fname)\n",
    "    #data.head ()\n",
    "    for idx in tqdm ( range (len (data['title'])) ):\n",
    "        '''\n",
    "        <s>[INST] <<SYS>>\n",
    "        You are a helpful, respectful and honest assistant. Always answer as helpfully as possible, while being safe.  Your answers should not include any harmful, unethical, racist, sexist, toxic, dangerous, or illegal content. Please ensure that your responses are socially unbiased and positive in nature.\n",
    "        \n",
    "        If a question does not make any sense, or is not factually coherent, explain why instead of answering something not correct. If you don't know the answer to a question, please don't share false information.\n",
    "        <</SYS>>\n",
    "        \n",
    "        There's a llama in my garden 😱 What should I do? [/INST]\n",
    "        '''\n",
    "        system_prompt='You are BioinspiredLLM, a helpful assistant.'\n",
    "        ########################################################\n",
    "        #line=f\"{CNT['text'][idx]}{end_token}\"\n",
    "        #line=f\"{or_start_token} {CNT['question'][idx]} {or_end_token} {CNT['answer'][idx]} {end_token}\" \n",
    "        #line=f\"<|user|>\\n{data['question'][idx]}</s>\\n<|assistant|>\\n{data['answer'][idx]}</s>\" \n",
    "        #line=f\"{data['title'][idx]} {data['summary'][idx]} {data['key_fact'][idx]}</s>\" \n",
    "        line=f\"{data['summary'][idx]}</s>\" \n",
    "        #prompt =  f\"<|im_start|>system\\n{system_prompt}<|im_end|>\\n<|im_start|>user\\n{user_message}<|im_end|>\\n<|im_start|>assistant\"\n",
    "    \n",
    "    \n",
    "    \n",
    "        #line = f\"[INST]\\n<<SYS>>\\n{system_prompt}\\n<</SYS>>\\n\\n{data['question'][idx]}[/INST]{data['answer'][idx]}</s>\"\n",
    "        #line = f\"[INST]\\n<<SYS>>\\n{system_prompt}\\n<</SYS>>\\n\\n{data['question'][idx]}[/INST]{data['answer'][idx]}</s>\"\n",
    "    \n",
    "        #line=f\"{data['question'][idx]} {data['answer'][idx]}\" \n",
    "        tok=tokenizer(line,  return_tensors=\"pt\",  )\n",
    "    \n",
    "        if tok['input_ids'].shape[1]<max_leng_critical:\n",
    "            \n",
    "            if tok['input_ids'].shape[1]>=max_len:\n",
    "                max_len=tok['input_ids'].shape[1]\n",
    "        \n",
    "                \n",
    "                #print (len (line.split ()))\n",
    "            if len (line.split ())>max_len_txt:\n",
    "                max_len_txt=len (line.split ())\n",
    "        \n",
    "            len_list.append (tok['input_ids'].shape[1])\n",
    "            len_list_txt.append (len (line.split ()))\n",
    "        \n",
    "            text_list.append (line)\n",
    "    print (f\"Max tokenized: {max_len}, max length (words): {max_len_txt}\")\n",
    "    MAX_TOKENIZED_LENGTH=max_len\n",
    "    \n",
    "    \n",
    "if Orca_include:\n",
    "    data=pd.read_csv('ALLDATASETS/train_data_processed_OpenOrca_shorter_train_data_chunked_text.csv_0_Lambda_0_FINAL.csv')\n",
    "    #data.head ()\n",
    "    for idx in tqdm ( range (len (data['title'])) ):\n",
    "        '''\n",
    "        <s>[INST] <<SYS>>\n",
    "        You are a helpful, respectful and honest assistant. Always answer as helpfully as possible, while being safe.  Your answers should not include any harmful, unethical, racist, sexist, toxic, dangerous, or illegal content. Please ensure that your responses are socially unbiased and positive in nature.\n",
    "        \n",
    "        If a question does not make any sense, or is not factually coherent, explain why instead of answering something not correct. If you don't know the answer to a question, please don't share false information.\n",
    "        <</SYS>>\n",
    "        \n",
    "        There's a llama in my garden 😱 What should I do? [/INST]\n",
    "        '''\n",
    "        system_prompt='You are BioinspiredLLM, a helpful assistant.'\n",
    "        ########################################################\n",
    "        #line=f\"{CNT['text'][idx]}{end_token}\"\n",
    "        #line=f\"{or_start_token} {CNT['question'][idx]} {or_end_token} {CNT['answer'][idx]} {end_token}\" \n",
    "        #line=f\"<|user|>\\n{data['question'][idx]}</s>\\n<|assistant|>\\n{data['answer'][idx]}</s>\" \n",
    "        line=f\"{data['title'][idx]} {data['summary'][idx]} {data['key_fact'][idx]}</s>\" \n",
    "        #prompt =  f\"<|im_start|>system\\n{system_prompt}<|im_end|>\\n<|im_start|>user\\n{user_message}<|im_end|>\\n<|im_start|>assistant\"\n",
    "    \n",
    "    \n",
    "    \n",
    "        #line = f\"[INST]\\n<<SYS>>\\n{system_prompt}\\n<</SYS>>\\n\\n{data['question'][idx]}[/INST]{data['answer'][idx]}</s>\"\n",
    "        #line = f\"[INST]\\n<<SYS>>\\n{system_prompt}\\n<</SYS>>\\n\\n{data['question'][idx]}[/INST]{data['answer'][idx]}</s>\"\n",
    "    \n",
    "        #line=f\"{data['question'][idx]} {data['answer'][idx]}\" \n",
    "        tok=tokenizer(line,  return_tensors=\"pt\",  )\n",
    "    \n",
    "        if tok['input_ids'].shape[1]<max_leng_critical:\n",
    "            \n",
    "            if tok['input_ids'].shape[1]>=max_len:\n",
    "                max_len=tok['input_ids'].shape[1]\n",
    "        \n",
    "                \n",
    "                #print (len (line.split ()))\n",
    "            if len (line.split ())>max_len_txt:\n",
    "                max_len_txt=len (line.split ())\n",
    "        \n",
    "            len_list.append (tok['input_ids'].shape[1])\n",
    "            len_list_txt.append (len (line.split ()))\n",
    "        \n",
    "            text_list.append (line)\n",
    "    print (f\"Max tokenized: {max_len}, max length (words): {max_len_txt}\")\n",
    "    MAX_TOKENIZED_LENGTH=max_len\n",
    "    \n",
    "\n",
    "\n",
    "if numerical_include:\n",
    "    \n",
    "    data=pd.read_csv('ALLDATASETS/train_data_processed_GPT35-numerical_train_data_chunked_text-COMBINED.csv')\n",
    "    #data.head ()\n",
    "    for idx in tqdm ( range (len (data['title'])) ):\n",
    "        '''\n",
    "        <s>[INST] <<SYS>>\n",
    "        You are a helpful, respectful and honest assistant. Always answer as helpfully as possible, while being safe.  Your answers should not include any harmful, unethical, racist, sexist, toxic, dangerous, or illegal content. Please ensure that your responses are socially unbiased and positive in nature.\n",
    "        \n",
    "        If a question does not make any sense, or is not factually coherent, explain why instead of answering something not correct. If you don't know the answer to a question, please don't share false information.\n",
    "        <</SYS>>\n",
    "        \n",
    "        There's a llama in my garden 😱 What should I do? [/INST]\n",
    "        '''\n",
    "        system_prompt='You are BioinspiredLLM, a helpful assistant.'\n",
    "        ########################################################\n",
    "        #line=f\"{CNT['text'][idx]}{end_token}\"\n",
    "        #line=f\"{or_start_token} {CNT['question'][idx]} {or_end_token} {CNT['answer'][idx]} {end_token}\" \n",
    "        #line=f\"<|user|>\\n{data['question'][idx]}</s>\\n<|assistant|>\\n{data['answer'][idx]}</s>\" \n",
    "        \n",
    "        if data['summary'][idx] != '':\n",
    "            line=f\"{data['summary'][idx]}</s>\" \n",
    "            #prompt =  f\"<|im_start|>system\\n{system_prompt}<|im_end|>\\n<|im_start|>user\\n{user_message}<|im_end|>\\n<|im_start|>assistant\"\n",
    "        \n",
    "        \n",
    "        \n",
    "            #line = f\"[INST]\\n<<SYS>>\\n{system_prompt}\\n<</SYS>>\\n\\n{data['question'][idx]}[/INST]{data['answer'][idx]}</s>\"\n",
    "            #line = f\"[INST]\\n<<SYS>>\\n{system_prompt}\\n<</SYS>>\\n\\n{data['question'][idx]}[/INST]{data['answer'][idx]}</s>\"\n",
    "        \n",
    "            #line=f\"{data['question'][idx]} {data['answer'][idx]}\" \n",
    "            tok=tokenizer(line,  return_tensors=\"pt\",  )\n",
    "        \n",
    "            if tok['input_ids'].shape[1]<max_leng_critical:\n",
    "                \n",
    "                if tok['input_ids'].shape[1]>=max_len:\n",
    "                    max_len=tok['input_ids'].shape[1]\n",
    "            \n",
    "                    \n",
    "                    #print (len (line.split ()))\n",
    "                if len (line.split ())>max_len_txt:\n",
    "                    max_len_txt=len (line.split ())\n",
    "            \n",
    "                len_list.append (tok['input_ids'].shape[1])\n",
    "                len_list_txt.append (len (line.split ()))\n",
    "            \n",
    "                text_list.append (line)\n",
    "    \n",
    "    \n",
    "    \n",
    "    data=pd.read_csv('ALLDATASETS/train_data_processed_GPT35-numerical_train_data_chunked_text_v3_REPEAT.csv')\n",
    "    #data.head ()\n",
    "    for idx in tqdm ( range (len (data['title'])) ):\n",
    "        '''\n",
    "        <s>[INST] <<SYS>>\n",
    "        You are a helpful, respectful and honest assistant. Always answer as helpfully as possible, while being safe.  Your answers should not include any harmful, unethical, racist, sexist, toxic, dangerous, or illegal content. Please ensure that your responses are socially unbiased and positive in nature.\n",
    "        \n",
    "        If a question does not make any sense, or is not factually coherent, explain why instead of answering something not correct. If you don't know the answer to a question, please don't share false information.\n",
    "        <</SYS>>\n",
    "        \n",
    "        There's a llama in my garden 😱 What should I do? [/INST]\n",
    "        '''\n",
    "        system_prompt='You are BioinspiredLLM, a helpful assistant.'\n",
    "        ########################################################\n",
    "        #line=f\"{CNT['text'][idx]}{end_token}\"\n",
    "        #line=f\"{or_start_token} {CNT['question'][idx]} {or_end_token} {CNT['answer'][idx]} {end_token}\" \n",
    "        #line=f\"<|user|>\\n{data['question'][idx]}</s>\\n<|assistant|>\\n{data['answer'][idx]}</s>\" \n",
    "        \n",
    "        if data['summary'][idx] != '':\n",
    "            line=f\"{data['summary'][idx]}</s>\" \n",
    "            #prompt =  f\"<|im_start|>system\\n{system_prompt}<|im_end|>\\n<|im_start|>user\\n{user_message}<|im_end|>\\n<|im_start|>assistant\"\n",
    "        \n",
    "        \n",
    "        \n",
    "            #line = f\"[INST]\\n<<SYS>>\\n{system_prompt}\\n<</SYS>>\\n\\n{data['question'][idx]}[/INST]{data['answer'][idx]}</s>\"\n",
    "            #line = f\"[INST]\\n<<SYS>>\\n{system_prompt}\\n<</SYS>>\\n\\n{data['question'][idx]}[/INST]{data['answer'][idx]}</s>\"\n",
    "        \n",
    "            #line=f\"{data['question'][idx]} {data['answer'][idx]}\" \n",
    "            tok=tokenizer(line,  return_tensors=\"pt\",  )\n",
    "        \n",
    "            if tok['input_ids'].shape[1]<max_leng_critical:\n",
    "                \n",
    "                if tok['input_ids'].shape[1]>=max_len:\n",
    "                    max_len=tok['input_ids'].shape[1]\n",
    "            \n",
    "                    \n",
    "                    #print (len (line.split ()))\n",
    "                if len (line.split ())>max_len_txt:\n",
    "                    max_len_txt=len (line.split ())\n",
    "            \n",
    "                len_list.append (tok['input_ids'].shape[1])\n",
    "                len_list_txt.append (len (line.split ()))\n",
    "            \n",
    "                text_list.append (line)\n",
    "print (f\"Max tokenized: {max_len}, max length (words): {max_len_txt}\")\n",
    "MAX_TOKENIZED_LENGTH=max_len\n",
    "\n",
    "import random\n",
    "\n",
    " \n",
    "# Shuffle the list\n",
    "random.shuffle(text_list)\n",
    "\n",
    "text_only=False #True\n",
    "#text_only=True #True\n",
    "\n",
    "if text_only:\n",
    "    import datasets \n",
    "    df_out = pd.DataFrame({\"text\": text_list,})\n",
    "    train_dataset = datasets.Dataset.from_pandas(df_out)\n",
    "    \n",
    "else:\n",
    "    train_dataset = Dataset(text_list )\n",
    "\n",
    "\n",
    "\n",
    "n_fragments=len (text_list)\n",
    "len (train_dataset), isinstance(train_dataset, torch.utils.data.Dataset)\n",
    "#MAX_TOKENIZED_LENGTH=768\n",
    "\n",
    "plt.hist (len_list, label = 'Token length', density=True, bins=50)\n",
    "plt.hist (len_list_txt, label = 'Text length (words)', density=True, bins=50)\n",
    "plt.legend ()\n",
    "plt.savefig ('dist.svg')\n",
    "plt.show()"
   ]
  },
  {
   "cell_type": "code",
   "execution_count": 31,
   "id": "68007382-6bee-4e8c-8543-38ac499cb265",
   "metadata": {},
   "outputs": [
    {
     "data": {
      "text/plain": [
       "511"
      ]
     },
     "execution_count": 31,
     "metadata": {},
     "output_type": "execute_result"
    }
   ],
   "source": [
    "max_len"
   ]
  },
  {
   "cell_type": "code",
   "execution_count": 32,
   "id": "cc6397e2-2c3e-41d4-a22d-3a8083cf15c9",
   "metadata": {},
   "outputs": [
    {
     "data": {
      "text/plain": [
       "511"
      ]
     },
     "execution_count": 32,
     "metadata": {},
     "output_type": "execute_result"
    }
   ],
   "source": [
    "MAX_TOKENIZED_LENGTH"
   ]
  },
  {
   "cell_type": "code",
   "execution_count": 33,
   "id": "7987b65e-4409-464e-8dac-15516effb94a",
   "metadata": {
    "scrolled": true,
    "tags": []
   },
   "outputs": [
    {
     "data": {
      "text/plain": [
       "['<|user|>\\n Question: What is the dominant fracture path observed in the shell structure being studied in the investigation?</s>\\n<|assistant|>\\n The dominant fracture path observed in the shell structure being studied in the investigation is along lamella boundaries.</s>\\n',\n",
       " '<|user|>\\n What is the difference between the crystallographic orientation of the major structural units in the primary plates and the lamellar needle complex?</s>\\n<|assistant|>\\n The crystallographic orientation of the major structural units in the primary plates and the lamellar needle complex is different. In the primary plates, the major structural units are oriented in two different directions: (a) orange to red at the outermost margin of the primary plates and (b) light green at the inter with the stone. In contrast, the major structural units in the lamellar needle complex are oriented in a different direction, with no specific orientation patterns mentioned.</s>\\n',\n",
       " '<|user|>\\n What were the results of the tensile testing of the scaffolds?</s>\\n<|assistant|>\\n The results of the tensile testing of the scaffolds were not provided in the text.</s>\\n',\n",
       " '<|user|>\\n 1. What are lapillus and asteriscus?</s>\\n<|assistant|>\\n Lapillus and asteriscus are two types of otoliths found in the inner ear of fish. Lapillus is composed of aragonite, while asteriscus is composed of vaterite.</s>\\n',\n",
       " '<|user|>\\n What is the expected outcome of the study in terms of developing an accurate constitutive description of the non-linear dynamic behavior for the machined material?</s>\\n<|assistant|>\\n The expected outcome of the study is to develop an accurate constitutive description of the non-linear dynamic behavior for the machined material in ultra-precision diamond turning (UPDT) of silk fibroin.</s>\\n',\n",
       " '<|user|>\\n Question: What is the equation used to describe the progression of the freezing front in the Stefan problem?</s>\\n<|assistant|>\\n The equation used to describe the progression of the freezing front in the Stefan problem is (6.13): lS rhE s+ ds, dt = lS (TE - T0 ) k.</s>\\n']"
      ]
     },
     "execution_count": 33,
     "metadata": {},
     "output_type": "execute_result"
    }
   ],
   "source": [
    "text_list[:6]"
   ]
  },
  {
   "cell_type": "code",
   "execution_count": 34,
   "id": "c4bec9d1-09c8-4a2b-a7b4-ee7266c8a21d",
   "metadata": {
    "tags": []
   },
   "outputs": [
    {
     "data": {
      "text/plain": [
       "511"
      ]
     },
     "execution_count": 34,
     "metadata": {},
     "output_type": "execute_result"
    }
   ],
   "source": [
    "MAX_TOKENIZED_LENGTH"
   ]
  },
  {
   "cell_type": "code",
   "execution_count": 35,
   "id": "d706c8da-672b-48c1-b72c-2e77412760bb",
   "metadata": {
    "scrolled": true,
    "tags": []
   },
   "outputs": [
    {
     "name": "stdout",
     "output_type": "stream",
     "text": [
      "torch.Size([62])\n",
      "tensor([    1,   523, 28766,  1838, 28766, 28767,    13,  1824,   349,   272,\n",
      "         5133,  1444,   272, 26148,   455, 12293, 18159,   302,   272,  3014,\n",
      "        21431,  8007,   297,   272,  6258, 19762,   304,   272,   305,   314,\n",
      "          479,   283, 25710,  4630, 28804,     2, 28705,    13, 28789, 28766,\n",
      "          489, 11143, 28766, 28767,    13,   415, 26148,   455, 12293, 18159,\n",
      "          302,   272,  3014, 21431,  8007,   297,   272,  6258, 19762,   304,\n",
      "          272,   305,   314,   479,   283, 25710,  4630,   349,  1581, 28723,\n",
      "          560,   272,  6258, 19762, 28725,   272,  3014, 21431,  8007,   460,\n",
      "         9093,   286,   297,   989,  1581, 14278, 28747,   325, 28708, 28731,\n",
      "        14545,   298,  2760,   438,   272, 12859,  2284,  9829,   302,   272,\n",
      "         6258, 19762,   304,   325, 28726, 28731,  2061,  5344,   438,   272,\n",
      "          791,   395,   272,  7253, 28723,   560,  9349, 28725,   272,  3014,\n",
      "        21431,  8007,   297,   272,   305,   314,   479,   283, 25710,  4630,\n",
      "          460,  9093,   286,   297,   264,  1581,  5007, 28725,   395,   708,\n",
      "         2948, 18159, 11533,  7083, 28723,     2, 28705,    13])\n",
      "torch.Size([54])\n",
      "tensor([    1,   523, 28766,  1838, 28766, 28767,    13, 28705, 28740, 28723,\n",
      "         1824,   460, 14348,   425,   381,   304, 28693,  8286,   381, 28804,\n",
      "            2, 28705,    13, 28789, 28766,   489, 11143, 28766, 28767,    13,\n",
      "        23760,   425,   381,   304, 28693,  8286,   381,   460,   989,  4514,\n",
      "          302,  6957,   328,   372, 28713,  1419,   297,   272,  7450,  8120,\n",
      "          302,  8006, 28723, 23760,   425,   381,   349, 15021,   302,   597,\n",
      "         4959,   570, 28725,  1312, 28693,  8286,   381,   349, 15021,   302,\n",
      "          363,   795,   570, 28723,     2, 28705,    13])\n",
      "torch.Size([95])\n",
      "tensor([    1,   523, 28766,  1838, 28766, 28767,    13, 22478, 28747,  1824,\n",
      "          349,   272,  8777,  1307,   298,  6685,   272,  5097,   296,   302,\n",
      "          272,  1933, 14508,  2778,   297,   272, 27656,  2700, 28804,     2,\n",
      "        28705,    13, 28789, 28766,   489, 11143, 28766, 28767,    13,   415,\n",
      "         8777,  1307,   298,  6685,   272,  5097,   296,   302,   272,  1933,\n",
      "        14508,  2778,   297,   272, 27656,  2700,   349,   325, 28784, 28723,\n",
      "        28740, 28770,  1329,   305, 28735, 23535, 28749,   268, 28806, 18099,\n",
      "        28725, 16599,   327,   305, 28735,   325,  3392,   387,   320, 28734,\n",
      "         1143,   446, 28723,     2, 28705,    13])\n",
      "torch.Size([187])\n",
      "tensor([    1,   523, 28766,  1838, 28766, 28767,    13,  1824,   349,   272,\n",
      "        16827,  4431,  1307,   297,   272,  3881,   298,  2231,  1830,  2473,\n",
      "          497,   369, 26302,   294,   272,  4693,   302,  3495,  5786, 28804,\n",
      "            2, 28705,    13, 28789, 28766,   489, 11143, 28766, 28767,    13,\n",
      "          415, 16827,  4431,  1307,   297,   272,  3881,   298,  2231,  1830,\n",
      "         2473,   497,   369, 26302,   294,   272,  4693,   302,  3495,  5786,\n",
      "        14657,  2662,  7346, 23581,  1830,  5064, 16744,  4213,   264,  2958,\n",
      "          294,   538, 14742, 28733,  1142,   313,   352, 28733, 11023,  2038,\n",
      "          304,   503,  2031,   288,   305,   372,  5064, 28723,     2, 28705,\n",
      "           13])\n"
     ]
    }
   ],
   "source": [
    "iterator=iter (train_dataset)\n",
    "for i in range (4):# (len (train_dataset)):\n",
    "    #print (next (iterator)['text'] )\n",
    "    print (next (iterator)['input_ids'].shape )\n",
    "    print (next (iterator)['input_ids'] )\n",
    "    #print (next (iterator)['text'])"
   ]
  },
  {
   "cell_type": "code",
   "execution_count": 36,
   "id": "5a973572-b93b-483b-83ba-91fe02dbb52d",
   "metadata": {
    "tags": []
   },
   "outputs": [
    {
     "data": {
      "text/plain": [
       "2"
      ]
     },
     "execution_count": 36,
     "metadata": {},
     "output_type": "execute_result"
    }
   ],
   "source": [
    "tokenizer.pad_token_id"
   ]
  },
  {
   "cell_type": "code",
   "execution_count": 37,
   "id": "2d55bf08-d4f4-4a7a-8066-ddfa946f6317",
   "metadata": {
    "tags": []
   },
   "outputs": [],
   "source": [
    "#keep norm layers in high accuracy \n",
    "#for name, module in model.named_modules():\n",
    "#    if \"norm\" in name:\n",
    "#        module = module.to(torch.float16)"
   ]
  },
  {
   "cell_type": "code",
   "execution_count": 38,
   "id": "d11913e5-b129-47e4-8b89-c4e2ac909795",
   "metadata": {
    "tags": []
   },
   "outputs": [
    {
     "data": {
      "text/plain": [
       "1"
      ]
     },
     "execution_count": 38,
     "metadata": {},
     "output_type": "execute_result"
    }
   ],
   "source": [
    "batch_size"
   ]
  },
  {
   "cell_type": "code",
   "execution_count": 39,
   "id": "888b9334-3afd-42ec-aa1a-ae953cabc06f",
   "metadata": {
    "scrolled": true,
    "tags": []
   },
   "outputs": [],
   "source": [
    "epochs=5"
   ]
  },
  {
   "cell_type": "markdown",
   "id": "4557c06f-2efe-4fb0-aad3-90a116477f30",
   "metadata": {},
   "source": [
    "### Set up training parameters, and train "
   ]
  },
  {
   "cell_type": "code",
   "execution_count": 40,
   "id": "eb3fb299-5815-40c4-9f75-59a52413742a",
   "metadata": {
    "tags": []
   },
   "outputs": [],
   "source": [
    "total_steps =  int (epochs*  (int (n_fragments*train_test_split )//batch_size )/gradient_accumulation_steps)\n",
    "steps_per_epoch=total_steps//epochs"
   ]
  },
  {
   "cell_type": "code",
   "execution_count": 41,
   "id": "aa2e8c39-0206-4df5-8dfd-e64aba9b0883",
   "metadata": {
    "tags": []
   },
   "outputs": [],
   "source": [
    "warmup_ratio=0.01\n",
    "warmupsteps=int (total_steps*0.01)"
   ]
  },
  {
   "cell_type": "code",
   "execution_count": 42,
   "id": "5bca8787-e88e-4961-a7c4-debc2d3beb13",
   "metadata": {
    "scrolled": true,
    "tags": []
   },
   "outputs": [
    {
     "data": {
      "text/plain": [
       "(110705, 22141, 1107)"
      ]
     },
     "execution_count": 42,
     "metadata": {},
     "output_type": "execute_result"
    }
   ],
   "source": [
    "total_steps, steps_per_epoch, warmupsteps"
   ]
  },
  {
   "cell_type": "raw",
   "id": "becf0f54-a832-4bc2-9906-90e5a2552987",
   "metadata": {
    "tags": []
   },
   "source": [
    "model.push_to_hub(FT_model_name, private=True)  \n",
    "tokenizer.push_to_hub(FT_model_name, private=True) "
   ]
  },
  {
   "cell_type": "raw",
   "id": "7202d5ea-54c4-451f-bba4-96413fec290b",
   "metadata": {
    "scrolled": true,
    "tags": []
   },
   "source": [
    "messages = [\n",
    "    {\n",
    "        \"role\": \"system\",\n",
    "        \"content\": \"You are a friendly chatbot who always responds in the style of a pirate\",\n",
    "    },\n",
    "    {\"role\": \"user\", \"content\": \"To create a tough and strong soft material using a biomimetic collagen design, what do I do? \"},\n",
    "]\n",
    "prompt = pipe.tokenizer.apply_chat_template(messages, tokenize=False, add_generation_prompt=True)\n",
    "\n",
    "\n",
    "generate_response (text_input=prompt,\n",
    "                   num_return_sequences=1,\n",
    "                                     temperature=.3,max_new_tokens=64)"
   ]
  },
  {
   "cell_type": "code",
   "execution_count": null,
   "id": "b2530a20-b920-4f54-b861-0dc32fba8ec6",
   "metadata": {
    "tags": []
   },
   "outputs": [],
   "source": [
    " "
   ]
  },
  {
   "cell_type": "code",
   "execution_count": 43,
   "id": "590ea5ff-39a8-4f18-bf64-c675e91abefa",
   "metadata": {
    "tags": []
   },
   "outputs": [],
   "source": [
    "class push_callback(TrainerCallback):\n",
    "    def on_save(self, args, state, control, **kwargs):\n",
    "\n",
    "        try:\n",
    "            print (\"Step: Pushing model...\", state.global_step )\n",
    "            model.push_to_hub(FT_model_name, private=True)  \n",
    "            \n",
    "        except:\n",
    "            print (\"Push error...\", state.global_step )\n",
    "        #tokenizer.push_to_hub(FT_model_name, private=True)  \n",
    "\n",
    "        #try:\n",
    "        #    model.save_pretrained (output_dir+\"/checkpoint\")\n",
    "\n",
    "        try:\n",
    "            df=pd.DataFrame(trainer.state.log_history)\n",
    "            df.to_csv(output_dir+loss_file)\n",
    "    \n",
    "            plt.plot (df['step'], df['loss'], 'o-', label = 'Training loss', )\n",
    "            plt.legend ()\n",
    "            plt.ylabel ('Loss')\n",
    "            plt.xlabel  ('Step')\n",
    "            plt.savefig(output_dir+f'/loss_{state.global_step}.svg')\n",
    "            plt.show()\n",
    "        except:\n",
    "            print (\"Plotting failed.\")\n",
    "\n",
    "        try:\n",
    "            #result=generate_response (text_input=f\"{start_token}[INST]To create a tough and strong soft material using a biomimetic collagen design, what do I do? [/INST]\",num_return_sequences=1,\n",
    "            #                         temperature=.5,max_new_tokens=128)\n",
    "\n",
    "            #trial ()\n",
    "            df_res=trial (df_trial,step_number=state.global_step, frac= 1)\n",
    "            \n",
    "            \n",
    "        except:\n",
    "            print (\"Trial generation failed.\")\n",
    "        "
   ]
  },
  {
   "cell_type": "code",
   "execution_count": null,
   "id": "86156a78-c09b-4fc3-bcd5-3b77f66daa7c",
   "metadata": {},
   "outputs": [
    {
     "data": {
      "application/vnd.jupyter.widget-view+json": {
       "model_id": "77ba4065308048be8b7b341c6049a649",
       "version_major": 2,
       "version_minor": 0
      },
      "text/plain": [
       "0it [00:00, ?it/s]"
      ]
     },
     "metadata": {},
     "output_type": "display_data"
    },
    {
     "name": "stdout",
     "output_type": "stream",
     "text": [
      "###########################################################################\n",
      "torch.Size([1, 58])\n"
     ]
    },
    {
     "name": "stderr",
     "output_type": "stream",
     "text": [
      "/opt/conda/lib/python3.10/site-packages/transformers/generation/utils.py:1547: UserWarning: You have modified the pretrained model configuration to control generation. This is a deprecated strategy to control generation and will be removed soon, in a future version. Please use and modify the model generation configuration (see https://huggingface.co/docs/transformers/generation_strategies#default-text-generation-configuration )\n",
      "  warnings.warn(\n"
     ]
    },
    {
     "name": "stdout",
     "output_type": "stream",
     "text": [
      "Question: When describing gradient structures, they can be gradients in? A) dimension B) composition C) both dimension and composition\n",
      "Answer: C) both dimension and composition is the correct answer when describing gradient structures. Gradient structures can exhibit gradients in both dimension and composition. This means that the properties of the material, such as composition, crystal structure, or magnetic properties, can vary smoothly and gradually in both spatial and compositional directions. Gradient structures are commonly used in materials science and engineering to tailor the properties of materials for specific applications.\n",
      "Correct answer=C\n",
      "###########################################################################\n",
      "torch.Size([1, 63])\n"
     ]
    }
   ],
   "source": [
    "df_res=trial (df_trial,step_number=223, frac= 1)"
   ]
  },
  {
   "cell_type": "code",
   "execution_count": null,
   "id": "bfa26b4b-b9fd-4f22-885a-8368f21c51ac",
   "metadata": {},
   "outputs": [],
   "source": [
    "1+\"A\""
   ]
  },
  {
   "cell_type": "code",
   "execution_count": null,
   "id": "4dad4c27-6557-4cc9-96de-9fe2cd0799ee",
   "metadata": {
    "tags": []
   },
   "outputs": [],
   "source": [
    "from transformers import TrainingArguments\n",
    "\n",
    "output_dir = output_dir\n",
    "per_device_train_batch_size = batch_size\n",
    "gradient_accumulation_steps = gradient_accumulation_steps\n",
    "#optim = \"paged_adamw_32bit\"\n",
    "optim = \"paged_adamw_8bit\"\n",
    "save_steps = steps_per_epoch\n",
    "logging_steps = steps_per_epoch\n",
    "learning_rate = learning_rate\n",
    "max_grad_norm = 0.3\n",
    "max_steps = total_steps\n",
    " \n",
    "lr_scheduler_type = \"constant\"\n",
    "\n",
    "training_arguments = TrainingArguments(\n",
    "    output_dir=output_dir,\n",
    "    per_device_train_batch_size=per_device_train_batch_size,\n",
    "    gradient_accumulation_steps=gradient_accumulation_steps,\n",
    "    optim=optim,\n",
    "    save_steps=save_steps,\n",
    "    logging_steps=logging_steps,\n",
    "    learning_rate=learning_rate,\n",
    "    #fp16=True,\n",
    "    bf16=True, #on A100\n",
    "    max_grad_norm=max_grad_norm,\n",
    "    max_steps=max_steps,\n",
    "    warmup_ratio=warmup_ratio,\n",
    "    #group_by_length=True,\n",
    "    lr_scheduler_type=lr_scheduler_type,\n",
    "    save_total_limit=50,\n",
    "    report_to= \"none\", #change if you want to use wandb\n",
    ")"
   ]
  },
  {
   "cell_type": "code",
   "execution_count": null,
   "id": "398e986c-1caf-47d6-b765-f1ebafcd1933",
   "metadata": {
    "tags": []
   },
   "outputs": [],
   "source": [
    " FT_model_name"
   ]
  },
  {
   "cell_type": "code",
   "execution_count": null,
   "id": "1ae3ff78-5d58-4e73-a8ff-b4aea9a461cd",
   "metadata": {
    "scrolled": true,
    "tags": []
   },
   "outputs": [],
   "source": [
    "train_dataset[0]"
   ]
  },
  {
   "cell_type": "code",
   "execution_count": null,
   "id": "9180cafb-3714-4330-88d0-7a55e2fbff88",
   "metadata": {
    "tags": []
   },
   "outputs": [],
   "source": [
    "from trl import SFTTrainer\n",
    "from transformers import   DataCollatorForLanguageModeling, DataCollatorForSeq2Seq\n",
    "#max_seq_length = MAX_TOKENIZED_LENGTH\n",
    "\n",
    "\n",
    "\n",
    "'''\n",
    "trainer = SFTTrainer(\n",
    "    model=model,\n",
    "    train_dataset=train_data, #dataset, #train_data,\n",
    "    peft_config=peft_config,\n",
    "    dataset_text_field=\"text\",\n",
    "    max_seq_length=max_seq_length,\n",
    "    tokenizer=tokenizer,\n",
    "    args=training_arguments,\n",
    ")\n",
    "'''\n",
    "\n",
    "trainer = Trainer(\n",
    "        model=model,\n",
    "        train_dataset=train_dataset,\n",
    "        args=training_arguments,\n",
    "        #data_collator=DataCollatorForLanguageModeling(tokenizer, mlm=False),\n",
    "   data_collator=DataCollatorForSeq2Seq(tokenizer, return_tensors='pt', padding=True),\n",
    "    callbacks=[push_callback],\n",
    "    )\n",
    "\n"
   ]
  },
  {
   "cell_type": "code",
   "execution_count": null,
   "id": "96eded98-56c3-4e01-811a-e3a4e70d2663",
   "metadata": {},
   "outputs": [],
   "source": [
    "len (train_dataset)"
   ]
  },
  {
   "cell_type": "code",
   "execution_count": null,
   "id": "05da85e5-2375-4dec-9212-55273c029629",
   "metadata": {
    "scrolled": true
   },
   "outputs": [],
   "source": [
    "#model.to('cuda')"
   ]
  },
  {
   "cell_type": "code",
   "execution_count": null,
   "id": "b8293d94-ed59-415d-8a72-df4c49ec1f22",
   "metadata": {
    "tags": []
   },
   "outputs": [],
   "source": [
    "#for name, module in model.named_modules():\n",
    "#    if \"norm\" in name:\n",
    "#        module = module.to(torch.float16)"
   ]
  },
  {
   "cell_type": "code",
   "execution_count": null,
   "id": "7d4bf230-1617-4d90-be8b-0581e6b65ee6",
   "metadata": {
    "scrolled": true
   },
   "outputs": [],
   "source": [
    "#df_res=trial (df_trial,step_number=223, frac= 1)"
   ]
  },
  {
   "cell_type": "code",
   "execution_count": null,
   "id": "843a70dc-569c-49ef-9d3c-59108623e63d",
   "metadata": {
    "tags": []
   },
   "outputs": [],
   "source": [
    "trainer.train()"
   ]
  },
  {
   "cell_type": "code",
   "execution_count": null,
   "id": "9317be1c-3a45-4c91-97c8-9a4e75c1dcd8",
   "metadata": {},
   "outputs": [],
   "source": []
  },
  {
   "cell_type": "code",
   "execution_count": null,
   "id": "8aef7185-3147-4904-8494-2610ed3a3109",
   "metadata": {
    "scrolled": true
   },
   "outputs": [],
   "source": [
    "trainer.train(resume_from_checkpoint = f'./{FT_model_name}/tmp-checkpoint-15390//')"
   ]
  },
  {
   "cell_type": "code",
   "execution_count": null,
   "id": "49c75eb5-b731-4ce6-b76b-7934c1b970ff",
   "metadata": {},
   "outputs": [],
   "source": []
  },
  {
   "cell_type": "code",
   "execution_count": null,
   "id": "eee38a9c-8ac2-4bc1-9a63-dba2a62e63c1",
   "metadata": {},
   "outputs": [],
   "source": []
  },
  {
   "cell_type": "code",
   "execution_count": null,
   "id": "92230a73-d57d-47ca-997f-0d77d5adeb4f",
   "metadata": {},
   "outputs": [],
   "source": []
  }
 ],
 "metadata": {
  "kernelspec": {
   "display_name": "Python 3 (ipykernel)",
   "language": "python",
   "name": "python3"
  },
  "language_info": {
   "codemirror_mode": {
    "name": "ipython",
    "version": 3
   },
   "file_extension": ".py",
   "mimetype": "text/x-python",
   "name": "python",
   "nbconvert_exporter": "python",
   "pygments_lexer": "ipython3",
   "version": "3.10.13"
  }
 },
 "nbformat": 4,
 "nbformat_minor": 5
}
