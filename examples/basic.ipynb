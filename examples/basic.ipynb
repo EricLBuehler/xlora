{
 "cells": [
  {
   "cell_type": "code",
   "execution_count": null,
   "id": "50f465c3-43b2-410e-894b-7ad43cb0204d",
   "metadata": {},
   "outputs": [],
   "source": [
    "import xlora\n",
    "import torch\n",
    "from transformers import AutoConfig, AutoModelForCausalLM"
   ]
  },
  {
   "cell_type": "code",
   "execution_count": null,
   "id": "d2e9335a-2b28-4d18-9d30-532e0babba37",
   "metadata": {},
   "outputs": [],
   "source": [
    "model = AutoModelForCausalLM.from_pretrained(\n",
    "    \"mistralai/Mistral-7B-Instruct-v0.1\", \n",
    "    trust_remote_code=True,\n",
    "    device_map=\"cuda:0\",\n",
    "    torch_dtype=torch.bfloat16,\n",
    "    )\n",
    "\n",
    "config = AutoConfig.from_pretrained(\n",
    "    \"mistralai/Mistral-7B-Instruct-v0.1\",\n",
    "    trust_remote_code=True,\n",
    "    device_map=\"auto\",\n",
    "    )"
   ]
  },
  {
   "cell_type": "markdown",
   "id": "ebbfe0a0",
   "metadata": {},
   "source": [
    "### Convert the model to X-LoRA"
   ]
  },
  {
   "cell_type": "code",
   "execution_count": null,
   "id": "847f7409-8261-40c0-b6ba-100947655357",
   "metadata": {},
   "outputs": [],
   "source": [
    "model = xlora.add_xlora_to_model(\n",
    "    model=model,\n",
    "    xlora_config=xlora.xLoRAConfig(config.hidden_size, xlora_depth=8, device=torch.device(\"cuda\")),\n",
    "    verbose=True,\n",
    "    adapters={\"adapter_1\": \"./path/to/the/checkpoint/\", \"adapter_2\": \"./path/to/the/checkpoint/\", \"adapter_n\": \"./path/to/the/checkpoint/\"},\n",
    ")"
   ]
  },
  {
   "cell_type": "code",
   "execution_count": null,
   "id": "d159f148",
   "metadata": {},
   "outputs": [],
   "source": [
    "model.print_trainable_parameters()"
   ]
  },
  {
   "cell_type": "markdown",
   "id": "0ad92d0b",
   "metadata": {},
   "source": [
    "### Example of scalings logging"
   ]
  },
  {
   "cell_type": "code",
   "execution_count": null,
   "id": "9f5e1208",
   "metadata": {},
   "outputs": [],
   "source": [
    "model.enable_scalings_logging()\n",
    "\n",
    "# Run forward passes to accumulate a log\n",
    "\n",
    "model.flush_log_scalings(\"./path/to/output/file\")\n",
    "\n",
    "model.disable_scalings_logging()"
   ]
  }
 ],
 "metadata": {
  "kernelspec": {
   "display_name": "Python 3 (ipykernel)",
   "language": "python",
   "name": "python3"
  },
  "language_info": {
   "codemirror_mode": {
    "name": "ipython",
    "version": 3
   },
   "file_extension": ".py",
   "mimetype": "text/x-python",
   "name": "python",
   "nbconvert_exporter": "python",
   "pygments_lexer": "ipython3",
   "version": "3.11.3"
  }
 },
 "nbformat": 4,
 "nbformat_minor": 5
}
