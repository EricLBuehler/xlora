{
 "cells": [
  {
   "cell_type": "code",
   "execution_count": 1,
   "id": "50f465c3-43b2-410e-894b-7ad43cb0204d",
   "metadata": {},
   "outputs": [],
   "source": [
    "from transformers import AutoModelForCausalLM\n",
    "from peft import PeftModel"
   ]
  },
  {
   "cell_type": "code",
   "execution_count": 2,
   "id": "d2e9335a-2b28-4d18-9d30-532e0babba37",
   "metadata": {},
   "outputs": [
    {
     "data": {
      "application/vnd.jupyter.widget-view+json": {
       "model_id": "3f6e3c91dfe340f6bb87dc959933835f",
       "version_major": 2,
       "version_minor": 0
      },
      "text/plain": [
       "Loading checkpoint shards:   0%|          | 0/2 [00:00<?, ?it/s]"
      ]
     },
     "metadata": {},
     "output_type": "display_data"
    }
   ],
   "source": [
    "model = AutoModelForCausalLM.from_pretrained(\n",
    "        \"mistralai/Mistral-7B-Instruct-v0.1\",\n",
    "        device_map=\"auto\"\n",
    "    )"
   ]
  },
  {
   "cell_type": "code",
   "execution_count": null,
   "id": "9a295669-4092-4902-940a-ed0ef26b5de8",
   "metadata": {},
   "outputs": [],
   "source": [
    "model = PeftModel.from_pretrained(\n",
    "        model, f\"./mole-checkpoints/checkpoint-a/\", adapter_name='adapter_1'\n",
    "    )\n",
    "model.load_adapter(\n",
    "        f\"./mole-checkpoints/checkpoint-a/\", adapter_name='adapter_2'\n",
    "    )"
   ]
  },
  {
   "cell_type": "code",
   "execution_count": 4,
   "id": "3c6e744e-3c74-4532-91a4-9b322c7510c4",
   "metadata": {},
   "outputs": [
    {
     "name": "stdout",
     "output_type": "stream",
     "text": [
      "{'adapter_1': LoraConfig(peft_type=<PeftType.LORA: 'LORA'>, auto_mapping=None, base_model_name_or_path='mistralai/Mistral-7B-Instruct-v0.1', revision=None, task_type='CAUSAL_LM', inference_mode=True, r=16, target_modules={'k_proj', 'gate_proj', 'q_proj', 'o_proj', 'v_proj'}, lora_alpha=16, lora_dropout=0.05, fan_in_fan_out=False, bias='none', modules_to_save=None, init_lora_weights=True, layers_to_transform=None, layers_pattern=None, rank_pattern={}, alpha_pattern={}, megatron_config=None, megatron_core='megatron.core', loftq_config={}), 'adapter_2': LoraConfig(peft_type=<PeftType.LORA: 'LORA'>, auto_mapping=None, base_model_name_or_path='mistralai/Mistral-7B-Instruct-v0.1', revision=None, task_type='CAUSAL_LM', inference_mode=True, r=16, target_modules={'k_proj', 'gate_proj', 'q_proj', 'o_proj', 'v_proj'}, lora_alpha=16, lora_dropout=0.05, fan_in_fan_out=False, bias='none', modules_to_save=None, init_lora_weights=True, layers_to_transform=None, layers_pattern=None, rank_pattern={}, alpha_pattern={}, megatron_config=None, megatron_core='megatron.core', loftq_config={})}\n"
     ]
    }
   ],
   "source": [
    "model.peft_config.keys()\n",
    "print(model.peft_config)"
   ]
  },
  {
   "cell_type": "code",
   "execution_count": 1,
   "id": "755f00bc-5b7f-41d2-81fa-4d9b57dbfec5",
   "metadata": {},
   "outputs": [
    {
     "name": "stdout",
     "output_type": "stream",
     "text": [
      "['MoLEClassifierConfig', '__builtins__', '__cached__', '__doc__', '__file__', '__loader__', '__name__', '__package__', '__path__', '__spec__', 'add_mole_to_model', 'mistral', 'mole', 'mole_state', 'utils']\n"
     ]
    }
   ],
   "source": [
    "import mole\n",
    "print(dir(mole))"
   ]
  },
  {
   "cell_type": "code",
   "execution_count": null,
   "id": "847f7409-8261-40c0-b6ba-100947655357",
   "metadata": {},
   "outputs": [],
   "source": [
    "mole.add_mole_to_model(model = model,\n",
    "                       mole_config=mole.MoLEClassifierConfig(2),\n",
    "                       adapters=['adapter_1', 'adapter_2'],\n",
    "                       peft_config=model.peft_config)"
   ]
  },
  {
   "cell_type": "code",
   "execution_count": null,
   "id": "8ac266eb-8743-4359-aca1-2488ca9ade1d",
   "metadata": {},
   "outputs": [],
   "source": []
  }
 ],
 "metadata": {
  "kernelspec": {
   "display_name": "Python 3 (ipykernel)",
   "language": "python",
   "name": "python3"
  },
  "language_info": {
   "codemirror_mode": {
    "name": "ipython",
    "version": 3
   },
   "file_extension": ".py",
   "mimetype": "text/x-python",
   "name": "python",
   "nbconvert_exporter": "python",
   "pygments_lexer": "ipython3",
   "version": "3.11.3"
  }
 },
 "nbformat": 4,
 "nbformat_minor": 5
}
