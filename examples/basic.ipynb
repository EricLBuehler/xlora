{
 "cells": [
  {
   "cell_type": "code",
   "execution_count": null,
   "id": "50f465c3-43b2-410e-894b-7ad43cb0204d",
   "metadata": {},
   "outputs": [],
   "source": [
    "import xlora\n",
    "import torch\n",
    "from transformers import AutoConfig, AutoModelForCausalLM"
   ]
  },
  {
   "cell_type": "code",
   "execution_count": null,
   "id": "d2e9335a-2b28-4d18-9d30-532e0babba37",
   "metadata": {},
   "outputs": [],
   "source": [
    "model = AutoModelForCausalLM.from_pretrained(\"mistralai/Mistral-7B-Instruct-v0.1\", device_map=\"auto\")\n",
    "config = AutoConfig.from_pretrained(\"mistralai/Mistral-7B-Instruct-v0.1\")"
   ]
  },
  {
   "cell_type": "code",
   "execution_count": null,
   "id": "847f7409-8261-40c0-b6ba-100947655357",
   "metadata": {},
   "outputs": [],
   "source": [
    "model = xlora.add_xlora_to_model(\n",
    "    model=model,\n",
    "    xlora_config=xlora.xLoRAConfig(config.hidden_size, xlora_depth=8, device=torch.device(\"cuda\")),\n",
    "    verbose=True,\n",
    "    adapters={\"adapter_1\": \"./xlora-checkpoints/checkpoint-a/\", \"adapter_2\": \"./xlora-checkpoints/checkpoint-a/\"},\n",
    ")"
   ]
  },
  {
   "cell_type": "code",
   "execution_count": null,
   "id": "4185fb9f",
   "metadata": {},
   "outputs": [],
   "source": [
    "model.print_trainable_parameters()"
   ]
  }
 ],
 "metadata": {
  "kernelspec": {
   "display_name": "Python 3 (ipykernel)",
   "language": "python",
   "name": "python3"
  },
  "language_info": {
   "codemirror_mode": {
    "name": "ipython",
    "version": 3
   },
   "file_extension": ".py",
   "mimetype": "text/x-python",
   "name": "python",
   "nbconvert_exporter": "python",
   "pygments_lexer": "ipython3",
   "version": "3.11.3"
  }
 },
 "nbformat": 4,
 "nbformat_minor": 5
}
